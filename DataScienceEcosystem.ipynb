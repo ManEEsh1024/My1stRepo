{
 "cells": [
  {
   "cell_type": "markdown",
   "id": "5fa4e4c2-2b27-443f-a144-0ae65dbb1f44",
   "metadata": {},
   "source": [
    "#Data Science Tools and Ecosystem"
   ]
  },
  {
   "cell_type": "markdown",
   "id": "85009b1d-b7df-4743-9d16-8e79e13ae6dc",
   "metadata": {},
   "source": [
    "In this notebook, Data Science Tools and Ecosystem are summarized."
   ]
  },
  {
   "cell_type": "markdown",
   "id": "28a27684-98fc-4d12-b808-0575592a3ae9",
   "metadata": {},
   "source": [
    "Objectives:\n",
    "- Some of the popular languages that Data Scientists use\n",
    "- Some of the commonly used libraries by Data Scientists\n",
    "- Data Science Tools\n",
    "- arithmetic expressions in Python\n",
    "- minutes to hour in python"
   ]
  },
  {
   "cell_type": "markdown",
   "id": "1575c8aa-0dc6-416a-8e05-9a36a0bc2928",
   "metadata": {},
   "source": [
    "Some of the popular languages that Data Scientists use are:\n",
    "1. Python\n",
    "1. RObjectives:\n",
    "1. SQL"
   ]
  },
  {
   "cell_type": "markdown",
   "id": "b3d551ed-0364-40e5-919d-a947b5cdfaac",
   "metadata": {},
   "source": [
    "Some of the commonly  used libraries by Data Scientists include:\n",
    "1. NumPy\n",
    "1. SciPy\n",
    "1. PyTorch"
   ]
  },
  {
   "cell_type": "markdown",
   "id": "baea3ab8-51d4-4209-bc3f-984c14e7a0be",
   "metadata": {},
   "source": [
    "|Data Science Tools|\n",
    "|------------------|\n",
    "|Apache Spark|\n",
    "|Apache Hadoop|\n",
    "|RStudio|\n",
    "|Jupyter|"
   ]
  },
  {
   "cell_type": "markdown",
   "id": "b2cc9ae4-a2e6-466a-a8d9-a4ecb0611913",
   "metadata": {},
   "source": [
    "Below are a few examples of evaluating arithmetic expressions in Python"
   ]
  },
  {
   "cell_type": "code",
   "execution_count": 1,
   "id": "59b84fd8-86c4-4637-8cbc-959d4506c0fd",
   "metadata": {
    "tags": []
   },
   "outputs": [
    {
     "data": {
      "text/plain": [
       "17"
      ]
     },
     "execution_count": 1,
     "metadata": {},
     "output_type": "execute_result"
    }
   ],
   "source": [
    "(3*4)+5"
   ]
  },
  {
   "cell_type": "code",
   "execution_count": 2,
   "id": "1a066c9a-980c-4591-a3b4-7da1b49af326",
   "metadata": {
    "tags": []
   },
   "outputs": [
    {
     "name": "stdin",
     "output_type": "stream",
     "text": [
      " 200\n"
     ]
    },
    {
     "name": "stdout",
     "output_type": "stream",
     "text": [
      "3.3333333333333335\n"
     ]
    }
   ],
   "source": [
    "n=int(input())\n",
    "print(n/60)"
   ]
  },
  {
   "cell_type": "markdown",
   "id": "a4e70aef-58db-4678-a244-c5ef5ee5ed4f",
   "metadata": {},
   "source": [
    "Author Maneesh J J"
   ]
  },
  {
   "cell_type": "code",
   "execution_count": null,
   "id": "6f2bfa33-9cdf-46bf-b238-0bd9076aae0d",
   "metadata": {},
   "outputs": [],
   "source": []
  }
 ],
 "metadata": {
  "kernelspec": {
   "display_name": "Python",
   "language": "python",
   "name": "conda-env-python-py"
  },
  "language_info": {
   "codemirror_mode": {
    "name": "ipython",
    "version": 3
   },
   "file_extension": ".py",
   "mimetype": "text/x-python",
   "name": "python",
   "nbconvert_exporter": "python",
   "pygments_lexer": "ipython3",
   "version": "3.7.12"
  }
 },
 "nbformat": 4,
 "nbformat_minor": 5
}
